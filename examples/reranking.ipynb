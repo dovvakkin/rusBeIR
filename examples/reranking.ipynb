{
 "cells": [
  {
   "cell_type": "code",
   "execution_count": null,
   "id": "107e7683",
   "metadata": {},
   "outputs": [],
   "source": [
    "from rusBeIR.benchmarking.model_benchmark import DatasetEvaluator\n",
    "from rusBeIR.beir.retrieval.search.lexical import BM25Search as BM25\n",
    "from rusBeIR.retrieval.models.E5Model import E5Model\n",
    "from rusBeIR.beir.reranking.models import CrossEncoder\n",
    "from rusBeIR.reranking.BGE_reranker import ReRanker"
   ]
  },
  {
   "cell_type": "code",
   "execution_count": null,
   "id": "1fcf4c96",
   "metadata": {},
   "outputs": [],
   "source": [
    "#bm25 = BM25(index_name=\"rerank\", hostname=\"172.17.0.4:9200\", initialize=True)\n",
    "e5 = E5Model()\n",
    "evaluator = DatasetEvaluator(model=e5)\n",
    "#cross_encoder_model = CrossEncoder('BAAI/bge-reranker-v2-m3', max_length=1024)"
   ]
  },
  {
   "cell_type": "code",
   "execution_count": null,
   "id": "d3516ac4",
   "metadata": {},
   "outputs": [],
   "source": [
    "bge_reranker = ReRanker('BAAI/bge-reranker-v2-m3', max_length=2048)"
   ]
  },
  {
   "cell_type": "code",
   "execution_count": null,
   "id": "01a96453",
   "metadata": {
    "scrolled": true
   },
   "outputs": [],
   "source": [
    "#evaluator.retrieve(text_type='text', results_path=\"rusBeIR-e5-results-base\")"
   ]
  },
  {
   "cell_type": "code",
   "execution_count": null,
   "id": "c934faf0",
   "metadata": {},
   "outputs": [],
   "source": [
    "evaluator.rerank(model=bge_reranker, results_path='results/results-orig/rusBeIR-frida-results', batch_size=1)"
   ]
  },
  {
   "cell_type": "code",
   "execution_count": null,
   "id": "3dd2c54d",
   "metadata": {
    "scrolled": true
   },
   "outputs": [],
   "source": [
    "#evaluator.evaluate(results_path=\"results/results-lemmatized/rusBeIR-bm25-results-reranked\", results_type='rerank')\n",
    "#evaluator.evaluate(results_path=\"results/results-orig/rusBeIR-e5-results-large-reranked\", results_type='rerank')\n",
    "#evaluator.evaluate(results_path=\"results/results-orig/rusBeIR-bge-m3-results-reranked\", results_type='rerank')\n",
    "evaluator.evaluate(results_path=\"results/results-orig/rusBeIR-frida-results-reranked\", results_type='rerank')\n",
    "evaluator.print_results()"
   ]
  },
  {
   "cell_type": "code",
   "execution_count": null,
   "id": "0cdfe4a9",
   "metadata": {},
   "outputs": [],
   "source": []
  }
 ],
 "metadata": {
  "kernelspec": {
   "display_name": "ms-marco",
   "language": "python",
   "name": "ms-marco"
  },
  "language_info": {
   "codemirror_mode": {
    "name": "ipython",
    "version": 3
   },
   "file_extension": ".py",
   "mimetype": "text/x-python",
   "name": "python",
   "nbconvert_exporter": "python",
   "pygments_lexer": "ipython3",
   "version": "3.11.5"
  }
 },
 "nbformat": 4,
 "nbformat_minor": 5
}
