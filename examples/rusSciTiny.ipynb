{
 "cells": [
  {
   "cell_type": "code",
   "execution_count": null,
   "id": "badcb578",
   "metadata": {},
   "outputs": [],
   "source": [
    "from rusBeIR.benchmarking.model_benchmark import DatasetEvaluator"
   ]
  },
  {
   "cell_type": "code",
   "execution_count": null,
   "id": "09e5d9bc",
   "metadata": {},
   "outputs": [],
   "source": [
    "from typing import List, Dict\n",
    "from rusBeIR.retrieval.models.HFTransformers import HFTransformers\n",
    "import torch\n",
    "from tqdm import tqdm\n",
    "import torch.nn.functional as F\n",
    "import numpy as np\n",
    "\n",
    "\n",
    "class rusSciTinyModel(HFTransformers):\n",
    "    def __init__(self, model_name: str = 'mlsa-iai-msu-lab/sci-rus-tiny', maxlen: int = None, device: str = 'cuda'):\n",
    "        \"\"\"\n",
    "        :param model_name: Name of the pre-trained BGE model from HF.\n",
    "        :param device: Where to run the model ('cuda' or 'cpu').\n",
    "        \"\"\"\n",
    "        super().__init__(model_name, maxlen=maxlen, device=device)\n",
    "\n",
    "    def encode_queries(self, queries: List[str], batch_size: int = 128):\n",
    "        \"\"\"\n",
    "        :param queries: List of query strings.\n",
    "        :param batch_size: Batch size for encoding.\n",
    "        :return: Query embeddings.\n",
    "        \"\"\"\n",
    "        return self.get_sentence_embedding(queries, batch_size)\n",
    "    \n",
    "    def encode_passages(self, passages: List[str], batch_size: int = 128):\n",
    "        \"\"\"\n",
    "        :param passages: List of passage strings.\n",
    "        :param batch_size: Batch size for encoding.\n",
    "        :return: Passage embeddings.\n",
    "        \"\"\"\n",
    "        return self.get_sentence_embedding(passages, batch_size)\n",
    "    \n",
    "\n",
    "    def get_sentence_embedding(self, texts, batch_size=128):\n",
    "        embeddings = []\n",
    "        for i in tqdm(range(0, len(texts), batch_size), desc=\"Processing Batches\"):\n",
    "            batch_texts = texts[i:i + batch_size]\n",
    "            encoded_input = self.tokenizer(batch_texts, padding=True, truncation=True, return_tensors='pt', max_length=self.max_len).to(self.model.device)\n",
    "            with torch.no_grad():\n",
    "                model_output = self.model(**encoded_input)\n",
    "            sentence_embeddings = self._average_pool(model_output, encoded_input['attention_mask'])\n",
    "            sentence_embeddings = F.normalize(sentence_embeddings, p=2, dim=1)\n",
    "            embeddings.append(sentence_embeddings.cpu().detach().numpy())\n",
    "        return np.vstack(embeddings)\n",
    "\n",
    "    \n",
    "    def _average_pool(self, model_output, attention_mask):\n",
    "        token_embeddings = model_output[0]\n",
    "        input_mask_expanded = attention_mask.unsqueeze(-1).expand(token_embeddings.size()).float()\n",
    "        return torch.sum(token_embeddings * input_mask_expanded, 1) / torch.clamp(input_mask_expanded.sum(1), min=1e-9)"
   ]
  },
  {
   "cell_type": "code",
   "execution_count": null,
   "id": "5b0099a7",
   "metadata": {},
   "outputs": [],
   "source": [
    "rusSci = rusSciTinyModel()"
   ]
  },
  {
   "cell_type": "code",
   "execution_count": null,
   "id": "45ef56f6",
   "metadata": {},
   "outputs": [],
   "source": [
    "evaluator = DatasetEvaluator(model=rusSci)"
   ]
  },
  {
   "cell_type": "code",
   "execution_count": null,
   "id": "ade1c956",
   "metadata": {
    "scrolled": true
   },
   "outputs": [],
   "source": [
    "evaluator.retrieve(text_type='text', results_path=\"results/results-orig/rusBeIR-rusSci-results\")"
   ]
  },
  {
   "cell_type": "code",
   "execution_count": null,
   "id": "94d57261",
   "metadata": {},
   "outputs": [],
   "source": [
    "evaluator.evaluate(results_path=\"results/results-orig/rusBeIR-rusSci-results\")\n",
    "evaluator.print_results()"
   ]
  },
  {
   "cell_type": "code",
   "execution_count": null,
   "id": "4f6e82bd",
   "metadata": {},
   "outputs": [],
   "source": []
  }
 ],
 "metadata": {
  "kernelspec": {
   "display_name": "ms-marco",
   "language": "python",
   "name": "ms-marco"
  },
  "language_info": {
   "codemirror_mode": {
    "name": "ipython",
    "version": 3
   },
   "file_extension": ".py",
   "mimetype": "text/x-python",
   "name": "python",
   "nbconvert_exporter": "python",
   "pygments_lexer": "ipython3",
   "version": "3.11.5"
  }
 },
 "nbformat": 4,
 "nbformat_minor": 5
}
