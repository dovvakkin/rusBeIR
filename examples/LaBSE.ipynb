{
 "cells": [
  {
   "cell_type": "code",
   "execution_count": null,
   "id": "0b7ac2fc",
   "metadata": {},
   "outputs": [],
   "source": [
    "from rusBeIR.benchmarking.model_benchmark import DatasetEvaluator\n",
    "from rusBeIR.retrieval.models.LaBSE import LaBSEModel"
   ]
  },
  {
   "cell_type": "code",
   "execution_count": null,
   "id": "2968b7a9",
   "metadata": {},
   "outputs": [],
   "source": [
    "labse = LaBSEModel('cointegrated/LaBSE-en-ru', maxlen=64)\n",
    "#labse = LaBSEModel('sentence-transformers/LaBSE', maxlen=64)"
   ]
  },
  {
   "cell_type": "code",
   "execution_count": null,
   "id": "126c5c6e",
   "metadata": {},
   "outputs": [],
   "source": [
    "evaluator = DatasetEvaluator(model=labse)"
   ]
  },
  {
   "cell_type": "code",
   "execution_count": null,
   "id": "0b8bea1d",
   "metadata": {
    "scrolled": true
   },
   "outputs": [],
   "source": [
    "evaluator.retrieve(text_type='processed_text', results_path=\"results/results-lemmatized/rusBeIR-labse-enrus-results\")"
   ]
  },
  {
   "cell_type": "code",
   "execution_count": null,
   "id": "e9dcfb38",
   "metadata": {},
   "outputs": [],
   "source": [
    "evaluator.evaluate(results_path=\"results/results-lemmatized/rusBeIR-labse-enrus-results\")\n",
    "evaluator.print_results()"
   ]
  }
 ],
 "metadata": {
  "kernelspec": {
   "display_name": "ms-marco",
   "language": "python",
   "name": "ms-marco"
  },
  "language_info": {
   "codemirror_mode": {
    "name": "ipython",
    "version": 3
   },
   "file_extension": ".py",
   "mimetype": "text/x-python",
   "name": "python",
   "nbconvert_exporter": "python",
   "pygments_lexer": "ipython3",
   "version": "3.11.5"
  }
 },
 "nbformat": 4,
 "nbformat_minor": 5
}
