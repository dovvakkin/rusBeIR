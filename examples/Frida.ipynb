{
 "cells": [
  {
   "cell_type": "code",
   "execution_count": null,
   "id": "ae0d9cd7",
   "metadata": {},
   "outputs": [],
   "source": [
    "from rusBeIR.benchmarking.model_benchmark import DatasetEvaluator\n",
    "from rusBeIR.retrieval.models.Frida import FridaTransformers"
   ]
  },
  {
   "cell_type": "code",
   "execution_count": null,
   "id": "08ce2d83",
   "metadata": {},
   "outputs": [],
   "source": [
    "frida = FridaTransformers('ai-forever/FRIDA', batch_size=128)\n",
    "evaluator = DatasetEvaluator(model=frida)"
   ]
  },
  {
   "cell_type": "code",
   "execution_count": null,
   "id": "39942ac9",
   "metadata": {
    "scrolled": true
   },
   "outputs": [],
   "source": [
    "evaluator.retrieve(text_type='text', results_path=\"results/results-orig/rusBeIR-frida-results\")"
   ]
  },
  {
   "cell_type": "code",
   "execution_count": null,
   "id": "83717fb5",
   "metadata": {},
   "outputs": [],
   "source": [
    "evaluator.evaluate(results_path=\"results/results-orig/rusBeIR-frida-results\")\n",
    "evaluator.print_results()"
   ]
  }
 ],
 "metadata": {
  "kernelspec": {
   "display_name": "ms-marco",
   "language": "python",
   "name": "ms-marco"
  },
  "language_info": {
   "codemirror_mode": {
    "name": "ipython",
    "version": 3
   },
   "file_extension": ".py",
   "mimetype": "text/x-python",
   "name": "python",
   "nbconvert_exporter": "python",
   "pygments_lexer": "ipython3",
   "version": "3.11.5"
  }
 },
 "nbformat": 4,
 "nbformat_minor": 5
}
