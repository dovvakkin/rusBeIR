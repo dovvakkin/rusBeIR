{
 "cells": [
  {
   "cell_type": "code",
   "execution_count": null,
   "id": "7b44183b",
   "metadata": {},
   "outputs": [],
   "source": [
    "from rusBeIR.benchmarking.model_benchmark import DatasetEvaluator\n",
    "from rusBeIR.retrieval.models.E5Model import E5Model"
   ]
  },
  {
   "cell_type": "code",
   "execution_count": null,
   "id": "8a4ed5b7",
   "metadata": {},
   "outputs": [],
   "source": [
    "e5 = E5Model('intfloat/multilingual-e5-large')\n",
    "evaluator = DatasetEvaluator(model=e5)"
   ]
  },
  {
   "cell_type": "code",
   "execution_count": null,
   "id": "8dbced2f",
   "metadata": {
    "scrolled": true
   },
   "outputs": [],
   "source": [
    "evaluator.retrieve(text_type='text', results_path=\"results/results-orig/rusBeIR-e5-results-large\")"
   ]
  },
  {
   "cell_type": "code",
   "execution_count": null,
   "id": "5040b055",
   "metadata": {},
   "outputs": [],
   "source": [
    "evaluator.evaluate(results_path=\"results/results-orig/rusBeIR-e5-results-large\")\n",
    "evaluator.print_results()"
   ]
  }
 ],
 "metadata": {
  "kernelspec": {
   "display_name": "ms-marco",
   "language": "python",
   "name": "ms-marco"
  },
  "language_info": {
   "codemirror_mode": {
    "name": "ipython",
    "version": 3
   },
   "file_extension": ".py",
   "mimetype": "text/x-python",
   "name": "python",
   "nbconvert_exporter": "python",
   "pygments_lexer": "ipython3",
   "version": "3.11.5"
  }
 },
 "nbformat": 4,
 "nbformat_minor": 5
}
