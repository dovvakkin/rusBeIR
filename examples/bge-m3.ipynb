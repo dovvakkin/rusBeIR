{
 "cells": [
  {
   "cell_type": "code",
   "execution_count": null,
   "id": "f8421e1c",
   "metadata": {},
   "outputs": [],
   "source": [
    "from rusBeIR.benchmarking.model_benchmark import DatasetEvaluator\n",
    "from rusBeIR.retrieval.models.BGE import BGETransformers"
   ]
  },
  {
   "cell_type": "code",
   "execution_count": null,
   "id": "4f29afcb",
   "metadata": {},
   "outputs": [],
   "source": [
    "bge = BGETransformers(model_name='BAAI/bge-m3', maxlen = 1024, batch_size = 64) \n",
    "#bge = BGETransformers(model_name='deepVK/USER-bge-m3', maxlen = 2048, batch_size = 24) "
   ]
  },
  {
   "cell_type": "code",
   "execution_count": null,
   "id": "21eb69d8",
   "metadata": {},
   "outputs": [],
   "source": [
    "evaluator = DatasetEvaluator(model=bge)"
   ]
  },
  {
   "cell_type": "code",
   "execution_count": null,
   "id": "33332d9c",
   "metadata": {
    "scrolled": true
   },
   "outputs": [],
   "source": [
    "evaluator.retrieve(text_type='text', results_path=\"results/results-orig/rusBeIR-bge-m3-results\")"
   ]
  },
  {
   "cell_type": "code",
   "execution_count": null,
   "id": "a1a0a89f",
   "metadata": {},
   "outputs": [],
   "source": [
    "evaluator.evaluate(results_path=\"results/results-orig/rusBeIR-bge-m3-results\")\n",
    "evaluator.print_results()"
   ]
  }
 ],
 "metadata": {
  "kernelspec": {
   "display_name": "ms-marco",
   "language": "python",
   "name": "ms-marco"
  },
  "language_info": {
   "codemirror_mode": {
    "name": "ipython",
    "version": 3
   },
   "file_extension": ".py",
   "mimetype": "text/x-python",
   "name": "python",
   "nbconvert_exporter": "python",
   "pygments_lexer": "ipython3",
   "version": "3.11.5"
  }
 },
 "nbformat": 4,
 "nbformat_minor": 5
}
