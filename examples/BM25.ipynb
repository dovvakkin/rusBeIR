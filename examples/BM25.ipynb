{
 "cells": [
  {
   "cell_type": "code",
   "execution_count": null,
   "id": "05f44261",
   "metadata": {},
   "outputs": [],
   "source": [
    "from rusBeIR.benchmarking.model_benchmark import DatasetEvaluator\n",
    "from rusBeIR.beir.retrieval.search.lexical import BM25Search as BM25"
   ]
  },
  {
   "cell_type": "code",
   "execution_count": null,
   "id": "99365679",
   "metadata": {},
   "outputs": [],
   "source": [
    "bm25 = BM25(index_name=\"bm25\", hostname=\"172.17.0.4:9200\", initialize=True)\n",
    "evaluator = DatasetEvaluator(model=bm25)"
   ]
  },
  {
   "cell_type": "code",
   "execution_count": null,
   "id": "75818929",
   "metadata": {
    "scrolled": true
   },
   "outputs": [],
   "source": [
    "evaluator.retrieve(text_type='text', results_path='results/results-lemmatized/rusBeIR-bm25-results')"
   ]
  },
  {
   "cell_type": "code",
   "execution_count": null,
   "id": "1b75d601",
   "metadata": {},
   "outputs": [],
   "source": [
    "evaluator.evaluate(results_path='results/results-orig/rusBeIR-bm25-results')\n",
    "evaluator.print_results()"
   ]
  }
 ],
 "metadata": {
  "kernelspec": {
   "display_name": "ms-marco",
   "language": "python",
   "name": "ms-marco"
  },
  "language_info": {
   "codemirror_mode": {
    "name": "ipython",
    "version": 3
   },
   "file_extension": ".py",
   "mimetype": "text/x-python",
   "name": "python",
   "nbconvert_exporter": "python",
   "pygments_lexer": "ipython3",
   "version": "3.11.5"
  }
 },
 "nbformat": 4,
 "nbformat_minor": 5
}
