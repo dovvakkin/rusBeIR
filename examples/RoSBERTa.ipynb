{
 "cells": [
  {
   "cell_type": "code",
   "execution_count": null,
   "id": "abb1c3c6",
   "metadata": {},
   "outputs": [],
   "source": [
    "from rusBeIR.retrieval.models.RoSBERTa import RoSBERTaModel\n",
    "from rusBeIR.benchmarking.model_benchmark import DatasetEvaluator"
   ]
  },
  {
   "cell_type": "code",
   "execution_count": null,
   "id": "8e1d45cd",
   "metadata": {},
   "outputs": [],
   "source": [
    "RoSBERTa = RoSBERTaModel()"
   ]
  },
  {
   "cell_type": "code",
   "execution_count": null,
   "id": "68bfd0be",
   "metadata": {},
   "outputs": [],
   "source": [
    "evaluator = DatasetEvaluator(model=RoSBERTa)"
   ]
  },
  {
   "cell_type": "code",
   "execution_count": null,
   "id": "43073973",
   "metadata": {
    "scrolled": true
   },
   "outputs": [],
   "source": [
    "evaluator.retrieve(text_type='text', results_path=\"results/results-orig2/rusBeIR-rosberta-results\")"
   ]
  },
  {
   "cell_type": "code",
   "execution_count": null,
   "id": "7afe17e1",
   "metadata": {},
   "outputs": [],
   "source": [
    "evaluator.evaluate(results_path=\"results/results-orig2/rusBeIR-rosberta-results\")\n",
    "evaluator.print_results()"
   ]
  },
  {
   "cell_type": "code",
   "execution_count": null,
   "id": "e89a117a",
   "metadata": {},
   "outputs": [],
   "source": []
  }
 ],
 "metadata": {
  "kernelspec": {
   "display_name": "ms-marco",
   "language": "python",
   "name": "ms-marco"
  },
  "language_info": {
   "codemirror_mode": {
    "name": "ipython",
    "version": 3
   },
   "file_extension": ".py",
   "mimetype": "text/x-python",
   "name": "python",
   "nbconvert_exporter": "python",
   "pygments_lexer": "ipython3",
   "version": "3.11.5"
  }
 },
 "nbformat": 4,
 "nbformat_minor": 5
}
